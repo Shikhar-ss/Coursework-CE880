{
  "cells": [
    {
      "cell_type": "markdown",
      "metadata": {
        "id": "view-in-github",
        "colab_type": "text"
      },
      "source": [
        "<a href=\"https://colab.research.google.com/github/Shikhar-ss/Lab-Coursework-CE880/blob/master/problem1_week2.ipynb\" target=\"_parent\"><img src=\"https://colab.research.google.com/assets/colab-badge.svg\" alt=\"Open In Colab\"/></a>"
      ]
    },
    {
      "cell_type": "markdown",
      "metadata": {
        "id": "uhLPZ3Z0n-l5"
      },
      "source": [
        "---\n",
        "# Welcome to CE880\n",
        "### This is your week-2 : Problem 1 notebook\n",
        "\n",
        "For this problem set, we'll be using the Jupyter notebook and please upload this notebook to [Google Colab](https://colab.research.google.com/). \n"
      ]
    },
    {
      "cell_type": "markdown",
      "metadata": {
        "id": "_gk_pIbfn-l8"
      },
      "source": [
        "---\n",
        "## Question 1:\n",
        "\n",
        "Write a function to pass a list of numbers and return log2 of the array in the list format. \n",
        "`Hint`: take input as list and inside the function covert it into numpy array then perform the function. `Example` : input `[1, 4, 8]` and and output should be:  `[0.0, 2.0, 3.0]` "
      ]
    },
    {
      "cell_type": "code",
      "execution_count": 29,
      "metadata": {
        "deletable": false,
        "nbgrader": {
          "cell_type": "code",
          "checksum": "03985fd3466b126f93d3e2de75ca8065",
          "grade": false,
          "grade_id": "myLog_ans",
          "locked": false,
          "schema_version": 3,
          "solution": true
        },
        "id": "u7yEAPT5n-l8"
      },
      "outputs": [],
      "source": [
        "import numpy as np\n",
        "from math import log2\n",
        "\n",
        "def myLog(mylist):\n",
        "    result = list(map(lambda x : log2(x),mylist))\n",
        "    # np.array(result)\n",
        "    return result\n",
        "    raise NotImplementedError()"
      ]
    },
    {
      "cell_type": "code",
      "execution_count": 30,
      "metadata": {
        "colab": {
          "base_uri": "https://localhost:8080/"
        },
        "id": "VrFgFHMcn-l9",
        "outputId": "08900cc3-dda4-4708-e120-3ac9cbf30a39"
      },
      "outputs": [
        {
          "output_type": "execute_result",
          "data": {
            "text/plain": [
              "[0.0, 1.584962500721156, 2.321928094887362, 26.575424759098897]"
            ]
          },
          "metadata": {},
          "execution_count": 30
        }
      ],
      "source": [
        "in_array = [1, 3, 5, 10**8]\n",
        "myLog(in_array)"
      ]
    },
    {
      "cell_type": "code",
      "execution_count": 31,
      "metadata": {
        "deletable": false,
        "editable": false,
        "nbgrader": {
          "cell_type": "code",
          "checksum": "54d845f84053c0db891ac97b1155919f",
          "grade": true,
          "grade_id": "myLog_test",
          "locked": false,
          "points": 1,
          "schema_version": 3,
          "solution": false
        },
        "id": "SnToGzbYn-l9"
      },
      "outputs": [],
      "source": [
        "\"\"\"Check your output\"\"\"\n",
        "# Test case 1\n",
        "my = [1, 3, 5, 10**8]\n",
        "assert myLog(my) == [0.0, 1.584962500721156, 2.321928094887362, 26.575424759098897]\n",
        "\n",
        "# Test case 2\n",
        "my = [1, 100, 1000]\n",
        "assert myLog(my) == [0.0, 6.643856189774724, 9.965784284662087]"
      ]
    },
    {
      "cell_type": "markdown",
      "metadata": {
        "id": "Vuf8gVhen-l9"
      },
      "source": [
        "---\n",
        "\n",
        "## Question 2:\n",
        "\n",
        "The Fibonacci numbers are the numbers in the following integer sequence.\n",
        "`[0, 1, 1, 2, 3, 5, 8, 13, 21, 34, 55, 89, 144, ...]`\n",
        "In mathematical terms, the sequence $F_n$ of Fibonacci numbers is defined by the recurrence relation \n",
        "\n",
        "$$\n",
        "F_n = F_{n-1} + F_{n-2}\n",
        "$$\n",
        "with seed values  \n",
        "$$\n",
        " F_0 = 0 \\& F_1 = 1.\n",
        "$$\n",
        "\n",
        "\n",
        "Your task here is to write a code for printing $n^{th}$ Fibonacci number\n",
        "`Example`: Input: `myfibonacci(9)` and Output should be `34`. Remember your index starts from 0."
      ]
    },
    {
      "cell_type": "code",
      "execution_count": 32,
      "metadata": {
        "deletable": false,
        "nbgrader": {
          "cell_type": "code",
          "checksum": "f133cbe1fe662f2a7a1a9e535f2e6f98",
          "grade": false,
          "grade_id": "myfibonacci_ans",
          "locked": false,
          "schema_version": 3,
          "solution": true
        },
        "id": "iwYrPmX7n-l9"
      },
      "outputs": [],
      "source": [
        "def myfibonacci(n):\n",
        "    \"\"\"Function for nth Fibonacci number\"\"\"\n",
        "    # YOUR CODE HERE\n",
        "    if n == 0: return 0\n",
        "    elif(n ==1) : return 1\n",
        "    else:\n",
        "      f,s= 0,1\n",
        "      for i in range(n):\n",
        "        f,s = s, f+s\n",
        "    return f\n",
        "      \n",
        "    raise NotImplementedError()"
      ]
    },
    {
      "cell_type": "code",
      "execution_count": 33,
      "metadata": {
        "colab": {
          "base_uri": "https://localhost:8080/"
        },
        "id": "B5Jy4mlan-l-",
        "outputId": "3e1f3b30-7356-4ec5-f369-3b53345f4862"
      },
      "outputs": [
        {
          "output_type": "execute_result",
          "data": {
            "text/plain": [
              "2"
            ]
          },
          "metadata": {},
          "execution_count": 33
        }
      ],
      "source": [
        "myfibonacci(3)"
      ]
    },
    {
      "cell_type": "code",
      "execution_count": 34,
      "metadata": {
        "deletable": false,
        "editable": false,
        "nbgrader": {
          "cell_type": "code",
          "checksum": "2ff1c39846a83f90fb2e7663361ce659",
          "grade": true,
          "grade_id": "myfibonacci_test",
          "locked": false,
          "points": 1,
          "schema_version": 3,
          "solution": false
        },
        "id": "q91YmHdwn-l-"
      },
      "outputs": [],
      "source": [
        "\"\"\"Check that correct fibonacci number\"\"\"\n",
        "assert myfibonacci(0) == 0\n",
        "assert myfibonacci(1) == 1\n",
        "assert myfibonacci(2) == 1\n",
        "assert myfibonacci(3) == 2\n",
        "assert myfibonacci(4) == 3\n",
        "assert myfibonacci(5) == 5\n",
        "assert myfibonacci(6) == 8\n",
        "assert myfibonacci(7) == 13\n",
        "assert myfibonacci(8) == 21\n",
        "assert myfibonacci(9) == 34"
      ]
    },
    {
      "cell_type": "markdown",
      "metadata": {
        "id": "t3SNt2P1n-l-"
      },
      "source": [
        "---\n",
        "## Question 3: \n",
        "\n",
        " Write a program, which accept a list with `nan`s in it and count the maximum number of consecutive repeated `nan`.\n",
        " Example: In the `a = [nan, nan, 0.1, nan, 0.16, 1, 0.16, 0.9999, 0.0001, 0.16, 0.101, nan, 0.16]` and answer is 2."
      ]
    },
    {
      "cell_type": "code",
      "execution_count": 35,
      "metadata": {
        "deletable": false,
        "nbgrader": {
          "cell_type": "code",
          "checksum": "e0105f978e552425f896467b2ad9740d",
          "grade": false,
          "grade_id": "max_nan_ans",
          "locked": false,
          "schema_version": 3,
          "solution": true,
          "task": false
        },
        "id": "UQ5846K4n-l_"
      },
      "outputs": [],
      "source": [
        "# YOUR CODE HERE\n",
        "\n",
        "\n",
        "from math import isnan\n",
        "from cmath import nan\n",
        "\n",
        "def max_rep_nan(a):\n",
        "    if len(a) == 0:\n",
        "        return 0\n",
        "    else:\n",
        "        count_store = []\n",
        "        count = 0\n",
        "        \n",
        "        for i in a:\n",
        "            if isnan(i) == True:\n",
        "               count += 1\n",
        "            else:\n",
        "                count_store.append(count)\n",
        "                count = 0\n",
        "\n",
        "        return max(count_store)\n"
      ]
    },
    {
      "cell_type": "code",
      "execution_count": 36,
      "metadata": {
        "id": "G9FDmUZpn-l_",
        "colab": {
          "base_uri": "https://localhost:8080/"
        },
        "outputId": "6f0dfb0d-7a08-4eb4-b0c5-5ee3244a4247"
      },
      "outputs": [
        {
          "output_type": "execute_result",
          "data": {
            "text/plain": [
              "2"
            ]
          },
          "metadata": {},
          "execution_count": 36
        }
      ],
      "source": [
        "from cmath import nan\n",
        "a = [nan, nan, 0.1, nan, 0.16, 1, 0.16, 0.9999, 0.0001, 0.16, 0.101, nan, 0.16]\n",
        "max_rep_nan(a)"
      ]
    },
    {
      "cell_type": "code",
      "execution_count": 37,
      "metadata": {
        "deletable": false,
        "editable": false,
        "nbgrader": {
          "cell_type": "code",
          "checksum": "ce154839fcd97350c952ce0aea65171e",
          "grade": true,
          "grade_id": "max_rep_test",
          "locked": true,
          "points": 0,
          "schema_version": 3,
          "solution": false,
          "task": false
        },
        "id": "ElSVOSPsn-l_"
      },
      "outputs": [],
      "source": [
        "\"\"\"Check your answer by running this cell\"\"\"\n",
        "from cmath import nan\n",
        "a = [nan, nan, nan, 0.1, nan, 0.16, 1, 0.16, 0.101, nan]\n",
        "max_rep_nan(a) == 3\n",
        "\n",
        "a = [nan, nan, nan, nan, nan, 0.16, 1, 0.16, 0.101, nan]\n",
        "assert max_rep_nan(a) == 5\n",
        "\n",
        "a = [nan, 10, nan, 0.1, nan, 0.16, 1, 0.16, 0.101, nan]\n",
        "assert max_rep_nan(a) == 1\n",
        "\n",
        "a = []\n",
        "assert max_rep_nan(a) == 0"
      ]
    },
    {
      "cell_type": "markdown",
      "metadata": {
        "id": "4SDE1qLAn-l_"
      },
      "source": [
        "## Pandas Data Frame \n"
      ]
    },
    {
      "cell_type": "code",
      "execution_count": 38,
      "metadata": {
        "id": "PY8Iha3an-mA"
      },
      "outputs": [],
      "source": [
        "from sklearn import datasets\n",
        "import pandas as pd"
      ]
    },
    {
      "cell_type": "code",
      "execution_count": 39,
      "metadata": {
        "id": "6sExNA1wn-mA"
      },
      "outputs": [],
      "source": [
        "# import some data to play with\n",
        "iris = datasets.load_iris()\n",
        "x = pd.DataFrame(iris.data[:, :])  # we are taking all features.\n",
        "y = iris.target"
      ]
    },
    {
      "cell_type": "markdown",
      "metadata": {
        "id": "6kBpuIN5n-mA"
      },
      "source": [
        "---\n",
        "## Question 4:\n",
        "\n",
        "Write a function to find the max number in the each column in the IRIS dataset and return the output as a list,"
      ]
    },
    {
      "cell_type": "code",
      "execution_count": 40,
      "metadata": {
        "deletable": false,
        "nbgrader": {
          "cell_type": "code",
          "checksum": "761394defb38fe7012e55b761498e8f3",
          "grade": false,
          "grade_id": "filter_1_ans",
          "locked": false,
          "schema_version": 3,
          "solution": true,
          "task": false
        },
        "id": "ZhQXB9mmn-mA"
      },
      "outputs": [],
      "source": [
        "def my_max_min(x):\n",
        "    max_list = list(map(lambda i: max(x[i]), x.columns.values))\n",
        "    return max_list\n",
        "    raise NotImplementedError()"
      ]
    },
    {
      "cell_type": "code",
      "execution_count": 41,
      "metadata": {
        "deletable": false,
        "editable": false,
        "nbgrader": {
          "cell_type": "code",
          "checksum": "1251df5df0c674ebfde7e6d26f82ddbd",
          "grade": true,
          "grade_id": "filter_1_test",
          "locked": true,
          "points": 1,
          "schema_version": 3,
          "solution": false,
          "task": false
        },
        "id": "ZcXplhxon-mA"
      },
      "outputs": [],
      "source": [
        "\"\"\"Check your output\"\"\"\n",
        "assert my_max_min(x) == [7.9, 4.4, 6.9, 2.5]"
      ]
    },
    {
      "cell_type": "markdown",
      "metadata": {
        "id": "t9-jkY1Wn-mA"
      },
      "source": [
        "---\n",
        "## Question 5:\n",
        "\n",
        "\n",
        "Write a function to calculate the `mean` and `standard deviation` of IRIS dataset (last column only). `Hint`: You can use NumPy aggregate functions. Create a list and append value to it and return the output. "
      ]
    },
    {
      "cell_type": "code",
      "execution_count": 42,
      "metadata": {
        "deletable": false,
        "nbgrader": {
          "cell_type": "code",
          "checksum": "9795f3163ba2f778818d6e5e90f6a38e",
          "grade": false,
          "grade_id": "stats_ans",
          "locked": false,
          "schema_version": 3,
          "solution": true,
          "task": false
        },
        "id": "q4EhiB__n-mB"
      },
      "outputs": [],
      "source": [
        "def stats(x):\n",
        "  vals = list(x[x.columns.values[-1]].agg([np.mean, np.std]))\n",
        "  return vals\n",
        "  raise NotImplementedError()"
      ]
    },
    {
      "cell_type": "code",
      "execution_count": 43,
      "metadata": {
        "deletable": false,
        "editable": false,
        "nbgrader": {
          "cell_type": "code",
          "checksum": "396296f204435ec95d657eae34e3874c",
          "grade": true,
          "grade_id": "stats_test",
          "locked": true,
          "points": 2,
          "schema_version": 3,
          "solution": false,
          "task": false
        },
        "id": "WO0_WyDxn-mB"
      },
      "outputs": [],
      "source": [
        "\"\"\"Check your output\"\"\"\n",
        "# Test case\n",
        "assert stats(x) == [1.1993333333333336, 0.7622376689603465]"
      ]
    },
    {
      "cell_type": "code",
      "execution_count": 43,
      "metadata": {
        "id": "ND5Hyittn-mB"
      },
      "outputs": [],
      "source": []
    }
  ],
  "metadata": {
    "kernelspec": {
      "display_name": "Python 3",
      "language": "python",
      "name": "python3"
    },
    "language_info": {
      "codemirror_mode": {
        "name": "ipython",
        "version": 3
      },
      "file_extension": ".py",
      "mimetype": "text/x-python",
      "name": "python",
      "nbconvert_exporter": "python",
      "pygments_lexer": "ipython3",
      "version": "3.7.10"
    },
    "colab": {
      "provenance": [],
      "collapsed_sections": [],
      "include_colab_link": true
    }
  },
  "nbformat": 4,
  "nbformat_minor": 0
}